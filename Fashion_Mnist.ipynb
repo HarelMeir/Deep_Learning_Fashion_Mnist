{
  "cells": [
    {
      "cell_type": "markdown",
      "metadata": {
        "collapsed": false,
        "id": "XDDbguyGU8Fs"
      },
      "source": [
        "# Mid-semester assignment - Deep Learning\n",
        "Hello dear students,<br> This is the template notebook. Please upload it into your drive and open as Google Colab nootebook\".\n",
        "\n",
        "---\n",
        "<br>\n",
        "\n",
        "### Name and ID:\n",
        "Student 1: Harel Meir 205588940\n",
        "<br>\n",
        "Student 2: Aviad Korngut 206777724"
      ]
    },
    {
      "cell_type": "markdown",
      "metadata": {
        "id": "JLkWLC8f3HZI"
      },
      "source": [
        "## Fashion MNIST\n",
        "Fashion MNIST dataset contains 70,000 grayscale images in 10 categories. The images show individual articles of clothing at low resolution (28 by 28 pixels), as seen here:\n",
        "\n",
        "<table>\n",
        "  <tr><td>\n",
        "    <img src=\"https://tensorflow.org/images/fashion-mnist-sprite.png\"\n",
        "         alt=\"Fashion MNIST sprite\"  width=\"600\">\n",
        "  </td></tr>\n",
        "  \n",
        "</table>\n"
      ]
    },
    {
      "cell_type": "markdown",
      "metadata": {
        "id": "WiRxNFCn3Vxd"
      },
      "source": [
        "Loading the dataset returns four NumPy arrays:\n",
        "\n",
        "* The `train_images` and `train_labels` arrays are the *training set*—the data the model uses to learn.\n",
        "* The model is tested against the *test set*, the `test_images`, and `test_labels` arrays.\n",
        "\n",
        "The images are 28x28 NumPy arrays, with pixel values ranging between 0 and 255. The *labels* are an array of integers, ranging from 0 to 9. These correspond to the *class* of clothing the image represents:\n",
        "\n",
        "<table>\n",
        "  <tr>\n",
        "    <th>Label</th>\n",
        "    <th>Class</th>\n",
        "  </tr>\n",
        "  <tr>\n",
        "    <td>0</td>\n",
        "    <td>T-shirt/top</td>\n",
        "  </tr>\n",
        "  <tr>\n",
        "    <td>1</td>\n",
        "    <td>Trouser</td>\n",
        "  </tr>\n",
        "    <tr>\n",
        "    <td>2</td>\n",
        "    <td>Pullover</td>\n",
        "  </tr>\n",
        "    <tr>\n",
        "    <td>3</td>\n",
        "    <td>Dress</td>\n",
        "  </tr>\n",
        "    <tr>\n",
        "    <td>4</td>\n",
        "    <td>Coat</td>\n",
        "  </tr>\n",
        "    <tr>\n",
        "    <td>5</td>\n",
        "    <td>Sandal</td>\n",
        "  </tr>\n",
        "    <tr>\n",
        "    <td>6</td>\n",
        "    <td>Shirt</td>\n",
        "  </tr>\n",
        "    <tr>\n",
        "    <td>7</td>\n",
        "    <td>Sneaker</td>\n",
        "  </tr>\n",
        "    <tr>\n",
        "    <td>8</td>\n",
        "    <td>Bag</td>\n",
        "  </tr>\n",
        "    <tr>\n",
        "    <td>9</td>\n",
        "    <td>Ankle boot</td>\n",
        "  </tr>\n",
        "</table>\n",
        "\n",
        "<br>\n",
        "\n",
        "# Goodluck!"
      ]
    },
    {
      "cell_type": "markdown",
      "metadata": {
        "collapsed": false,
        "id": "4K84YZ_QU8Fv"
      },
      "source": [
        "# Part 1 : Neural Network in plain NumPy (50%)"
      ]
    },
    {
      "cell_type": "markdown",
      "metadata": {
        "id": "QReFpU112hLT"
      },
      "source": [
        "## Import Libraries"
      ]
    },
    {
      "cell_type": "code",
      "execution_count": null,
      "metadata": {
        "id": "tLOHjUiFU8Fv"
      },
      "outputs": [],
      "source": [
        "import numpy as np\n",
        "import matplotlib\n",
        "import matplotlib.pyplot as plt\n",
        "from sklearn.datasets import fetch_openml\n",
        "from sklearn.metrics import classification_report, confusion_matrix\n"
      ]
    },
    {
      "cell_type": "markdown",
      "metadata": {
        "id": "D5MsCpUv2tuj"
      },
      "source": [
        "## Load Dataset"
      ]
    },
    {
      "cell_type": "code",
      "execution_count": null,
      "metadata": {
        "colab": {
          "base_uri": "https://localhost:8080/"
        },
        "id": "nbzv9ZYA2pyW",
        "outputId": "25baa9d5-df1e-4468-ce34-6d929f982b06"
      },
      "outputs": [
        {
          "output_type": "stream",
          "name": "stdout",
          "text": [
            "(70000, 784) (70000,)\n"
          ]
        }
      ],
      "source": [
        "X, y = fetch_openml('Fashion-MNIST', version=1, return_X_y=True, as_frame=False)\n",
        "print(X.shape, y.shape)"
      ]
    },
    {
      "cell_type": "code",
      "execution_count": null,
      "metadata": {
        "id": "ODBYiC5bsla2"
      },
      "outputs": [],
      "source": [
        "orig_x = X\n",
        "orig_y = y"
      ]
    },
    {
      "cell_type": "markdown",
      "metadata": {
        "id": "GPBGGKtSoVpU"
      },
      "source": [
        "## Data preprocessing (5%)"
      ]
    },
    {
      "cell_type": "code",
      "source": [
        "X = orig_x\n",
        "y = orig_y"
      ],
      "metadata": {
        "id": "JPfv7TzYQpqk"
      },
      "execution_count": null,
      "outputs": []
    },
    {
      "cell_type": "markdown",
      "metadata": {
        "id": "i6K01j7A_Z4W"
      },
      "source": [
        "### Select two classes"
      ]
    },
    {
      "cell_type": "code",
      "execution_count": null,
      "metadata": {
        "colab": {
          "base_uri": "https://localhost:8080/"
        },
        "id": "7OuPZ0o8DNWq",
        "outputId": "8d1556df-94c4-4857-dda0-aaa4e36a424c"
      },
      "outputs": [
        {
          "output_type": "stream",
          "name": "stdout",
          "text": [
            "(14000, 784)\n",
            "(14000,)\n"
          ]
        }
      ],
      "source": [
        "#TODO: select two classes (for example 2-Pullover and 4-Coat)\n",
        "# convert to int array.\n",
        "temp_y = y.astype(np.float64)\n",
        "\n",
        "#chosen indexes\n",
        "idx1 = 3\n",
        "idx2 = 4\n",
        "\n",
        "# list of indexes with different lables to ignore\n",
        "indexes_to_delete =[]\n",
        "\n",
        "# adding the indexes to the arr\n",
        "for i,num in enumerate(temp_y):\n",
        "  if num != idx1 and num != idx2:\n",
        "    indexes_to_delete.append(i)\n",
        "\n",
        "\n",
        "#deleting the elemnts\n",
        "X = np.delete(X, indexes_to_delete, axis=0).astype(np.float64)\n",
        "y = np.delete(temp_y, indexes_to_delete, axis=0)\n",
        "\n",
        "y = np.where(y == 3, 0, 1)\n",
        "\n",
        "\n",
        "\n",
        "# prints the shapes\n",
        "print(X.shape)\n",
        "print(y.shape)\n",
        "\n",
        "\n",
        "\n",
        "\n",
        "\n",
        "\n",
        "\n",
        "\n",
        "\n",
        "\n",
        "\n"
      ]
    },
    {
      "cell_type": "markdown",
      "metadata": {
        "id": "LZfq8otp-wXY"
      },
      "source": [
        "### Feature scaling"
      ]
    },
    {
      "cell_type": "code",
      "execution_count": null,
      "metadata": {
        "id": "7MZtZIzzDIKe",
        "colab": {
          "base_uri": "https://localhost:8080/"
        },
        "outputId": "02b8c5ba-d4db-451e-c231-de666ff39ea2"
      },
      "outputs": [
        {
          "output_type": "stream",
          "name": "stdout",
          "text": [
            "(784, 14000)\n",
            "(1, 14000)\n"
          ]
        }
      ],
      "source": [
        "examples = y.shape[0]\n",
        "y1 = y.reshape(1, examples)\n",
        "# noamalize and transpose.\n",
        "X1 = X / 255\n",
        "X1 = X1.T\n",
        "print(X1.shape)\n",
        "print(y1.shape)\n"
      ]
    },
    {
      "cell_type": "markdown",
      "metadata": {
        "id": "cn5UPcIQH2jS"
      },
      "source": [
        "### Split the data into Train set and Test set\n",
        "For this part, you will need to implement a function that will shuffle the data in a random order. Note that you keep a matching order in Y (the label)."
      ]
    },
    {
      "cell_type": "code",
      "execution_count": null,
      "metadata": {
        "id": "qSX8TMb_prrb"
      },
      "outputs": [],
      "source": [
        "def data_shuffle(X, Y):\n",
        "  permutation = np.random.permutation(X1.shape[1])\n",
        "  X = X[:,permutation]\n",
        "  Y = Y[:,permutation]\n",
        "  return X,Y"
      ]
    },
    {
      "cell_type": "code",
      "execution_count": null,
      "metadata": {
        "id": "FBUI2DZmhd0y"
      },
      "outputs": [],
      "source": [
        "# TODO: Split the data into Train set and Test set (The use of libraries other than Numpy is strictly prohibited)\n",
        "\n",
        "X = X1\n",
        "Y = y1\n",
        "\n",
        "# Use shuffle on the train data\n",
        "X, y = data_shuffle(X, Y)\n",
        "\n",
        "\n",
        "# taking 0.8 as train, 0.2 as test\n",
        "PORTION = 0.8\n",
        "train_size = int(0.8 * X.shape[1])\n",
        "\n",
        "X_train, X_test = X[:,:train_size], X[:,train_size:X.shape[1]]\n",
        "Y_train, Y_test = y[:,:train_size].T, y[:,train_size:y.shape[1]].T\n"
      ]
    },
    {
      "cell_type": "markdown",
      "metadata": {
        "id": "gg7D7fwGH9Yv"
      },
      "source": [
        "### Test yourself"
      ]
    },
    {
      "cell_type": "code",
      "execution_count": null,
      "metadata": {
        "id": "wkLl0PSyDR9S",
        "colab": {
          "base_uri": "https://localhost:8080/",
          "height": 285
        },
        "outputId": "52d4aae8-9c96-4ec1-a6fd-7fd1fa52e98d"
      },
      "outputs": [
        {
          "output_type": "stream",
          "name": "stdout",
          "text": [
            "73\n"
          ]
        },
        {
          "output_type": "display_data",
          "data": {
            "text/plain": [
              "<Figure size 432x288 with 1 Axes>"
            ],
            "image/png": "[encoded data removed]"
          },
          "metadata": {
            "needs_background": "light"
          }
        },
        {
          "output_type": "execute_result",
          "data": {
            "text/plain": [
              "0"
            ]
          },
          "metadata": {},
          "execution_count": 546
        }
      ],
      "source": [
        "# Test yourself (Check that the classes you have selected are actually displayed)\n",
        "%matplotlib inline\n",
        "from numpy import random\n",
        "\n",
        "i = random.randint(100)\n",
        "print(i)\n",
        "plt.imshow(X_train[:,i].reshape(28,28), cmap = matplotlib.cm.binary)\n",
        "plt.axis(\"off\")\n",
        "plt.show()\n",
        "Y_train[i,0]"
      ]
    },
    {
      "cell_type": "markdown",
      "metadata": {
        "id": "Q81OW5M7oCWZ"
      },
      "source": [
        "## Activation functions (5%)"
      ]
    },
    {
      "cell_type": "code",
      "execution_count": null,
      "metadata": {
        "id": "nxruxXBsDmP-"
      },
      "outputs": [],
      "source": [
        "#TODO: Sigmoid activation function\n",
        "def sigmoid(z):\n",
        "  ret_arr = np.where(z < 0, np.exp(z) / (1+np.exp(z)), 1/(1+np.exp(-z)))\n",
        "  return ret_arr\n"
      ]
    },
    {
      "cell_type": "code",
      "execution_count": null,
      "metadata": {
        "id": "CG4iT5WnATi3"
      },
      "outputs": [],
      "source": [
        "def sigmoid_d(z):\n",
        "  s = sigmoid(z)\n",
        "  return s*(1-s)"
      ]
    },
    {
      "cell_type": "markdown",
      "metadata": {
        "id": "OBIAUcVboOG9"
      },
      "source": [
        "## Loss function (10%)\n",
        "BCE Loss function captures the intuition that the neural network should pay a high penalty(Loss→∞) when the estimated probability, with respect to the training example’s label, is completely wrong. On the other hand, the Loss should equal zero(Loss=0) when the estimated probability, with respect to the training example’s label, is correct. Simply put, the BCE Loss should equal zero in only two instances:<br>\n",
        "* if the example is positively labeled(y=1) the neural network model should be completely sure that the example belongs to the positive class i.e p̂=1.\n",
        "* if the example is negatively labeled(y=0) the neural network model should be completely sure that the example does not belong to the positive class i.e p̂=0.\n",
        "\n",
        "<b> When we work with a computer, there are very high values or very low values that it cannot handle and that could cause the system to crash. <br>In order to overcome the case where the function returns values that strive for infinity you will need to understand which range of values causes the logarithm to return inf \\ -inf and handle this within the function. </b>"
      ]
    },
    {
      "cell_type": "code",
      "execution_count": null,
      "metadata": {
        "id": "U0i2o9_KDUdQ"
      },
      "outputs": [],
      "source": [
        "#TODO: Binary cross entropy\n",
        "def log_loss(y_hat, y):\n",
        "    # if they are equal - return 0.\n",
        "    if y_hat == y:\n",
        "      return 0\n",
        "\n",
        "    # if y is 0 return only the part that doesnt get 0.\n",
        "    if y == 0:\n",
        "        return -(np.log(1.0-y_hat))\n",
        "    # if y == 1:\n",
        "    return -(np.log(y_hat))\n",
        "    '''\n",
        "    Logistic loss, assuming a single value in y_hat and y.\n",
        "    '''\n"
      ]
    },
    {
      "cell_type": "markdown",
      "metadata": {
        "id": "WY9DQPrJmvHZ"
      },
      "source": [
        "## NN Hyper Parameters"
      ]
    },
    {
      "cell_type": "code",
      "execution_count": null,
      "metadata": {
        "id": "qGCU_QYRnJap"
      },
      "outputs": [],
      "source": [
        "input_layer = X_train.shape[0] # 28X28 = 784\n",
        "hidden_layer = 256\n",
        "learning_rate = 0.04\n",
        "epochs = 5"
      ]
    },
    {
      "cell_type": "markdown",
      "metadata": {
        "id": "M6SdHpc2m3vV"
      },
      "source": [
        "## Weight and Bias Initialization"
      ]
    },
    {
      "cell_type": "code",
      "execution_count": null,
      "metadata": {
        "colab": {
          "base_uri": "https://localhost:8080/"
        },
        "id": "IVRoMGxTnLZI",
        "outputId": "5e51029f-3021-468d-aaf4-2a755e082073"
      },
      "outputs": [
        {
          "output_type": "stream",
          "name": "stdout",
          "text": [
            "(256, 784)\n",
            "(256, 1)\n",
            "(1, 256)\n",
            "(1, 1)\n"
          ]
        }
      ],
      "source": [
        "W1 = np.random.randn(hidden_layer, input_layer)\n",
        "b1 = np.zeros((hidden_layer, 1))\n",
        "W2 = np.random.randn(1, hidden_layer)\n",
        "b2 = np.zeros((1, 1))\n",
        "\n",
        "print(W1.shape)\n",
        "print(b1.shape)\n",
        "print(W2.shape)\n",
        "print(b2.shape)"
      ]
    },
    {
      "cell_type": "markdown",
      "metadata": {
        "id": "fp-IaWECn6Hu"
      },
      "source": [
        "## Training (15%)"
      ]
    },
    {
      "cell_type": "code",
      "execution_count": null,
      "metadata": {
        "id": "jwbNTbzBArcz",
        "colab": {
          "base_uri": "https://localhost:8080/"
        },
        "outputId": "628024f3-d9ac-4a66-92e5-c89b0de0139c"
      },
      "outputs": [
        {
          "output_type": "stream",
          "name": "stdout",
          "text": [
            "11200\n"
          ]
        }
      ],
      "source": [
        "X = X_train\n",
        "Y = Y_train\n",
        "\n",
        "loss_list = []\n",
        "epoch_list = []\n",
        "# number of elements in training set.\n",
        "numOfTraining = X.shape[1]\n",
        "\n",
        "print(numOfTraining)"
      ]
    },
    {
      "cell_type": "code",
      "execution_count": null,
      "metadata": {
        "id": "4tdlcCGLDo7F",
        "colab": {
          "base_uri": "https://localhost:8080/"
        },
        "outputId": "415864f2-1f23-4e51-8932-f5d220eceb75"
      },
      "outputs": [
        {
          "output_type": "stream",
          "name": "stdout",
          "text": [
            "Epoch 0  Loss: 0.24792227366492856\n",
            "Epoch 1  Loss: 0.17019796296479775\n",
            "Epoch 2  Loss: 0.14096817290332564\n",
            "Epoch 3  Loss: 0.125906427664426\n",
            "Epoch 4  Loss: 0.11080410293512229\n"
          ]
        }
      ],
      "source": [
        "for i in range(epochs):\n",
        "  avg_epoch_loss = 0\n",
        "  for j in range(numOfTraining):\n",
        "\n",
        "    # TODO :  Forward propagation\n",
        "    # getting the x val.\n",
        "    x_val = np.expand_dims(X[:,j], axis=1)\n",
        "    Z1 = np.matmul(W1,x_val) + b1\n",
        "    A1 = sigmoid(Z1)\n",
        "    Z2 = np.matmul(W2, A1) + b2\n",
        "    A2 = sigmoid(Z2)\n",
        "    Yout = Y[j,0]\n",
        "\n",
        "    # TODO: Compute loss\n",
        "    loss = log_loss( A2[0][0], Yout,j)\n",
        "    avg_epoch_loss = avg_epoch_loss + loss\n",
        "\n",
        "    # # TODO: Back propagation\n",
        "    dZ2 = (A2-Yout)             #d(loss)/d(z2)\n",
        "    dW2 = np.matmul(dZ2, A1.T)           #d(loss) * d(Z2)/d(W2)           \n",
        "    db2 = dZ2                     #d(loss)/d(d2) * d(z2)/d(b2)\n",
        "    \n",
        "    dA1 = np.matmul(W2.T, dZ2)\n",
        "    dZ1 = dA1 * sigmoid_d(Z1)\n",
        "    dW1 = np.matmul(dZ1, x_val.T)\n",
        "    db1 = dZ1\n",
        "\n",
        "    # TODO: Update weights\n",
        "    W2 = W2 - dW2 * learning_rate\n",
        "    b2 = b2 - db2 * learning_rate\n",
        "    W1 = W1 - dW1 * learning_rate\n",
        "    b1 = b1 - db1 * learning_rate\n",
        "\n",
        "  avg_epoch_loss = avg_epoch_loss/numOfTraining\n",
        "  loss_list.append(avg_epoch_loss)\n",
        "  epoch_list.append(i)\n",
        "  print(\"Epoch\", i,\" Loss:\", avg_epoch_loss)"
      ]
    },
    {
      "cell_type": "markdown",
      "metadata": {
        "id": "5HV5g7j92Xfn"
      },
      "source": [
        "## Results of part 1"
      ]
    },
    {
      "cell_type": "markdown",
      "metadata": {
        "id": "TdgCk97534-B"
      },
      "source": [
        "### Loss Visualization"
      ]
    },
    {
      "cell_type": "code",
      "execution_count": null,
      "metadata": {
        "colab": {
          "base_uri": "https://localhost:8080/",
          "height": 334
        },
        "id": "RFo9NN5Q31X8",
        "outputId": "f387325f-acd7-49cb-bd96-a89106df004b"
      },
      "outputs": [
        {
          "output_type": "stream",
          "name": "stdout",
          "text": [
            "[0, 1, 2, 3, 4]\n",
            "[0.24792227366492856, 0.17019796296479775, 0.14096817290332564, 0.125906427664426, 0.11080410293512229]\n"
          ]
        },
        {
          "output_type": "execute_result",
          "data": {
            "text/plain": [
              "[<matplotlib.lines.Line2D at 0x7f3010158af0>]"
            ]
          },
          "metadata": {},
          "execution_count": 554
        },
        {
          "output_type": "display_data",
          "data": {
            "text/plain": [
              "<Figure size 432x288 with 1 Axes>"
            ],
            "image/png": "[encoded data removed]"
          },
          "metadata": {
            "needs_background": "light"
          }
        }
      ],
      "source": [
        "import matplotlib.pyplot as plt\n",
        "plt.xlabel('Epoch Number')\n",
        "plt.ylabel(\"Loss\")\n",
        "print(epoch_list)\n",
        "print(loss_list)\n",
        "plt.plot(epoch_list, loss_list)"
      ]
    },
    {
      "cell_type": "markdown",
      "metadata": {
        "id": "raBFclM5ploH"
      },
      "source": [
        "### Test your performance (15%)"
      ]
    },
    {
      "cell_type": "code",
      "execution_count": null,
      "metadata": {
        "colab": {
          "base_uri": "https://localhost:8080/"
        },
        "id": "flfh-luxDs7Z",
        "outputId": "71aaa7e7-ae9b-42f7-9447-ed454230bdf9"
      },
      "outputs": [
        {
          "output_type": "stream",
          "name": "stdout",
          "text": [
            "[[1338   95]\n",
            " [  38 1329]]\n",
            "The Accuracy score is: 0.9525 %\n"
          ]
        }
      ],
      "source": [
        "#TODO: Forward batch of examples\n",
        "X = X_test\n",
        "Y = Y_test\n",
        "\n",
        "Z1 = np.matmul(W1, X_test) + b1\n",
        "A1 = sigmoid(Z1)\n",
        "Z2 = np.matmul(W2, A1) + b2\n",
        "A2 = sigmoid(Z2)\n",
        "\n",
        "\n",
        "predictions = np.zeros((1,Y.shape[0]))\n",
        "labels = np.zeros((1,Y.shape[0]))\n",
        "\n",
        "\n",
        "# Check your predictions against the test's labels\n",
        "for i in range(Y.shape[0]):\n",
        "  if (A2[0,i] > 0.5): \n",
        "    predictions[0,i] = 1\n",
        "  labels[0,i] = Y[i,0]\n",
        "\n",
        "# Print the confusion matrix In order to test your performance\n",
        "matrix = confusion_matrix(predictions.T, labels.T)\n",
        "print(matrix)\n",
        "\n",
        "# calculate accuricy:\n",
        "tn,fp= matrix[0]\n",
        "fn,tp = matrix[1]\n",
        "\n",
        "acc = (tn+tp) / (tn+tp+fn+fp)\n",
        "print(f\"The Accuracy score is: {acc} %\")\n",
        "\n",
        "\n"
      ]
    },
    {
      "cell_type": "code",
      "execution_count": null,
      "metadata": {
        "colab": {
          "base_uri": "https://localhost:8080/",
          "height": 1000
        },
        "id": "gAj_5W2wVUrI",
        "outputId": "a1602d43-dc8c-4077-989d-aa44b4f066ab"
      },
      "outputs": [
        {
          "output_type": "display_data",
          "data": {
            "text/plain": [
              "<Figure size 432x288 with 1 Axes>"
            ],
            "image/png": "[encoded data removed]"
          },
          "metadata": {
            "needs_background": "light"
          }
        },
        {
          "output_type": "stream",
          "name": "stdout",
          "text": [
            "1\n",
            "Real= 1 Predicted= 0.999997076609088\n"
          ]
        },
        {
          "output_type": "display_data",
          "data": {
            "text/plain": [
              "<Figure size 432x288 with 1 Axes>"
            ],
            "image/png": "[encoded data removed]"
          },
          "metadata": {
            "needs_background": "light"
          }
        },
        {
          "output_type": "stream",
          "name": "stdout",
          "text": [
            "1\n",
            "Real= 1 Predicted= 0.999971353074787\n"
          ]
        },
        {
          "output_type": "display_data",
          "data": {
            "text/plain": [
              "<Figure size 432x288 with 1 Axes>"
            ],
            "image/png": "[encoded data removed]"
          },
          "metadata": {
            "needs_background": "light"
          }
        },
        {
          "output_type": "stream",
          "name": "stdout",
          "text": [
            "1\n",
            "Real= 1 Predicted= 0.9989438523032318\n"
          ]
        },
        {
          "output_type": "display_data",
          "data": {
            "text/plain": [
              "<Figure size 432x288 with 1 Axes>"
            ],
            "image/png": "[encoded data removed]"
          },
          "metadata": {
            "needs_background": "light"
          }
        },
        {
          "output_type": "stream",
          "name": "stdout",
          "text": [
            "1\n",
            "Real= 1 Predicted= 0.9999447322548409\n"
          ]
        },
        {
          "output_type": "display_data",
          "data": {
            "text/plain": [
              "<Figure size 432x288 with 1 Axes>"
            ],
            "image/png": "[encoded data removed]"
          },
          "metadata": {
            "needs_background": "light"
          }
        },
        {
          "output_type": "stream",
          "name": "stdout",
          "text": [
            "1\n",
            "Real= 1 Predicted= 0.9998580548808439\n"
          ]
        },
        {
          "output_type": "display_data",
          "data": {
            "text/plain": [
              "<Figure size 432x288 with 1 Axes>"
            ],
            "image/png": "[encoded data removed]"
          },
          "metadata": {
            "needs_background": "light"
          }
        },
        {
          "output_type": "stream",
          "name": "stdout",
          "text": [
            "1\n",
            "0\n",
            "Real= 1 Predicted= 0.065162302317088\n"
          ]
        },
        {
          "output_type": "display_data",
          "data": {
            "text/plain": [
              "<Figure size 432x288 with 1 Axes>"
            ],
            "image/png": "[encoded data removed]"
          },
          "metadata": {
            "needs_background": "light"
          }
        },
        {
          "output_type": "stream",
          "name": "stdout",
          "text": [
            "1\n",
            "Real= 1 Predicted= 0.9999823827199189\n"
          ]
        },
        {
          "output_type": "display_data",
          "data": {
            "text/plain": [
              "<Figure size 432x288 with 1 Axes>"
            ],
            "image/png": "[encoded data removed]"
          },
          "metadata": {
            "needs_background": "light"
          }
        },
        {
          "output_type": "stream",
          "name": "stdout",
          "text": [
            "0\n",
            "0\n",
            "Real= 0 Predicted= 2.2163092962527275e-05\n"
          ]
        },
        {
          "output_type": "display_data",
          "data": {
            "text/plain": [
              "<Figure size 432x288 with 1 Axes>"
            ],
            "image/png": "[encoded data removed]"
          },
          "metadata": {
            "needs_background": "light"
          }
        },
        {
          "output_type": "stream",
          "name": "stdout",
          "text": [
            "1\n",
            "Real= 1 Predicted= 0.9994951736201815\n"
          ]
        },
        {
          "output_type": "display_data",
          "data": {
            "text/plain": [
              "<Figure size 432x288 with 1 Axes>"
            ],
            "image/png": "[encoded data removed]"
          },
          "metadata": {
            "needs_background": "light"
          }
        },
        {
          "output_type": "stream",
          "name": "stdout",
          "text": [
            "0\n",
            "0\n",
            "Real= 0 Predicted= 8.475259266786485e-07\n"
          ]
        }
      ],
      "source": [
        "#TODO: SHOW VISUALLY RESULTS ON 10 TEST EXAMPLES\n",
        "%matplotlib inline\n",
        "from numpy import random\n",
        "\n",
        "for j in range(10):\n",
        "  i = random.randint(2000)\n",
        "  plt.imshow(X_test[:,i].reshape(28,28), cmap = matplotlib.cm.binary)\n",
        "  plt.axis(\"off\")\n",
        "  plt.show()\n",
        "  print(Y_test[i,0])\n",
        "\n",
        "  x_val2 = np.expand_dims(X[:,i], axis=1)\n",
        "  Z1 = np.matmul(W1,x_val2) + b1 \n",
        "  A1 = sigmoid(Z1)\n",
        "  Z2 = np.matmul(W2, A1) + b2\n",
        "  A2 = sigmoid(Z2)\n",
        "  Yout = Y[i,0]\n",
        "  print(\"Real=\", Y_test[i,0], \"Predicted=\",A2[0,0])"
      ]
    },
    {
      "cell_type": "markdown",
      "metadata": {
        "collapsed": false,
        "id": "EU8d54pEU8GF"
      },
      "source": [
        "# Part 2 : Neural Network with Tensorflow Keras (50%)"
      ]
    },
    {
      "cell_type": "markdown",
      "metadata": {
        "id": "UPCSaccR32De"
      },
      "source": [
        "## Import Libraries"
      ]
    },
    {
      "cell_type": "code",
      "execution_count": null,
      "metadata": {
        "id": "RyvoZdAXU8GG"
      },
      "outputs": [],
      "source": [
        "import tensorflow as tf\n",
        "from tensorflow import keras\n",
        "from keras.datasets import mnist\n",
        "import matplotlib.pyplot as plt\n",
        "import numpy as np"
      ]
    },
    {
      "cell_type": "markdown",
      "metadata": {
        "id": "Q1WPjPPR6Wpr"
      },
      "source": [
        "## Load Dataset"
      ]
    },
    {
      "cell_type": "code",
      "execution_count": null,
      "metadata": {
        "colab": {
          "base_uri": "https://localhost:8080/",
          "height": 265
        },
        "id": "xSM3px5EU8GG",
        "outputId": "7b6068c8-a6d7-42bc-f4f7-f3ef04519454"
      },
      "outputs": [
        {
          "output_type": "display_data",
          "data": {
            "text/plain": [
              "<Figure size 432x288 with 1 Axes>"
            ],
            "image/png": "[encoded data removed]"
          },
          "metadata": {
            "needs_background": "light"
          }
        }
      ],
      "source": [
        "\n",
        "\n",
        "fashion_mnist = keras.datasets.fashion_mnist\n",
        "\n",
        "(X_train, y_train), (X_test, y_test) = fashion_mnist.load_data()\n",
        "plt.imshow(X_train[2])\n",
        "plt.show()"
      ]
    },
    {
      "cell_type": "markdown",
      "metadata": {
        "collapsed": false,
        "id": "6Sm0udbSU8GG"
      },
      "source": [
        "## Data preprocessing"
      ]
    },
    {
      "cell_type": "markdown",
      "metadata": {
        "collapsed": false,
        "id": "ZZAUfLmVU8GH"
      },
      "source": [
        "### Feature scaling"
      ]
    },
    {
      "cell_type": "code",
      "execution_count": null,
      "metadata": {
        "colab": {
          "base_uri": "https://localhost:8080/"
        },
        "id": "hzqQphx7U8GH",
        "outputId": "55a99979-0d03-4db6-ffaf-eaded964d2e7"
      },
      "outputs": [
        {
          "output_type": "stream",
          "name": "stdout",
          "text": [
            "(60000, 784)\n",
            "(10000, 784)\n"
          ]
        }
      ],
      "source": [
        "\n",
        "\n",
        "# dividing the training and testing sets by 255(normalizing)\n",
        "X_train = X_train.astype(\"float32\") / 255\n",
        "X_test = X_test.astype(\"float32\") / 255\n",
        "\n",
        "# reshaping to preper for training.\n",
        "X_train = X_train.reshape(X_train.shape[0], 784)\n",
        "X_test = X_test.reshape(X_test.shape[0], 784)\n",
        "\n",
        "print(X_train.shape)\n",
        "print(X_test.shape)"
      ]
    },
    {
      "cell_type": "markdown",
      "metadata": {
        "id": "YSzvJ196GkvO"
      },
      "source": [
        "### Select two classes"
      ]
    },
    {
      "cell_type": "code",
      "execution_count": null,
      "metadata": {
        "id": "yjpHGlrmGlbe",
        "colab": {
          "base_uri": "https://localhost:8080/"
        },
        "outputId": "33b94fb7-cc72-462e-85a2-c6c91e42da9e"
      },
      "outputs": [
        {
          "output_type": "stream",
          "name": "stdout",
          "text": [
            "(2000,)\n"
          ]
        }
      ],
      "source": [
        "\n",
        "\n",
        "# the classes We have chosen are 4(pullover) and coat(2)\n",
        "class_1 = 3\n",
        "class_2 = 4\n",
        "\n",
        "# getting only the valus of the two\n",
        "X_train = X_train[(y_train == class_1) | (y_train == class_2)]\n",
        "y_train = y_train[(y_train == class_1) | (y_train == class_2)]\n",
        "X_test = X_test[(y_test == class_1) | (y_test == class_2)]\n",
        "y_test = y_test[(y_test == class_1) | (y_test == class_2)]\n",
        "\n",
        "original_y_test = y_test\n",
        "\n",
        "print(y_test.shape)\n"
      ]
    },
    {
      "cell_type": "markdown",
      "metadata": {
        "collapsed": false,
        "id": "FlCtN7Y-U8GH"
      },
      "source": [
        "\n",
        "We need to convert 1-dimensional class arrays to multi-dimensional class matrices<br>\n",
        "\n",
        "\n",
        "`np_utils.to_categorical` is used to convert array of labeled data(from 0 to nb_classes - 1) to one-hot vector.<br>\n",
        "Read about np_utils here: https://www.tensorflow.org/api_docs/python/tf/keras/utils/to_categorical"
      ]
    },
    {
      "cell_type": "code",
      "execution_count": null,
      "metadata": {
        "id": "PrJ6v0ACU8GI"
      },
      "outputs": [],
      "source": [
        "\n",
        "\n",
        "from keras.utils import np_utils\n",
        "# convert labels to binary classification (class_1: 0, class_2: 1)\n",
        "y_train = keras.utils.to_categorical(y_train == class_2, num_classes=2)\n",
        "y_test = keras.utils.to_categorical(y_test == class_2, num_classes=2)"
      ]
    },
    {
      "cell_type": "markdown",
      "metadata": {
        "collapsed": false,
        "id": "jwIzE9kSU8GI"
      },
      "source": [
        "### Build the network layers\n",
        "Read about Fully connected layers in keras here: https://www.tensorflow.org/api_docs/python/tf/keras/layers/Dense"
      ]
    },
    {
      "cell_type": "code",
      "execution_count": null,
      "metadata": {
        "id": "U3IepEv6U8GI"
      },
      "outputs": [],
      "source": [
        "\n",
        "\n",
        "from keras.models import Sequential\n",
        "from keras.layers import Flatten, Dense\n",
        "\n",
        "model2 = Sequential()\n",
        "\n",
        "# add input layer\n",
        "model2.add(Dense(units=256, activation = \"sigmoid\", input_shape=(784,), use_bias = True))\n",
        "\n",
        "model2.add(Dense(units=64,activation=\"sigmoid\"))\n",
        "\n",
        "# add hidden layer\n",
        "model2.add(Dense(units=2, activation = \"softmax\"))\n",
        "\n"
      ]
    },
    {
      "cell_type": "markdown",
      "source": [
        "### Experiment 1 model\n",
        "Build Second model with one additional layer of sigmoid"
      ],
      "metadata": {
        "id": "ZIys2EYtbjO9"
      }
    },
    {
      "cell_type": "code",
      "source": [
        "\n",
        "model3 = Sequential()\n",
        "# add input layer\n",
        "model3.add(Dense(units=512, activation = \"sigmoid\", input_shape=(784,), use_bias = True))\n",
        "\n",
        "model3.add(Dense(units=128,activation=\"relu\"))\n",
        "\n",
        "\n",
        "# add hidden layer\n",
        "model3.add(Dense(units=2, activation = \"softmax\"))"
      ],
      "metadata": {
        "id": "gCWTyM8caqsD"
      },
      "execution_count": null,
      "outputs": []
    },
    {
      "cell_type": "markdown",
      "source": [
        "### Experiment 2 model"
      ],
      "metadata": {
        "id": "VEJOG80oElAx"
      }
    },
    {
      "cell_type": "code",
      "source": [
        "\n",
        "\n",
        "model4 = Sequential()\n",
        "# add input layer\n",
        "model4.add(Dense(units=256, activation = \"sigmoid\", input_shape=(784,), use_bias = True))\n",
        "\n",
        "model4.add(Dense(units=64, activation = \"sigmoid\"))\n",
        "\n",
        "# add hidden layer\n",
        "model4.add(Dense(units=2, activation = \"softmax\"))"
      ],
      "metadata": {
        "id": "7nZKq4p1Epj8"
      },
      "execution_count": null,
      "outputs": []
    },
    {
      "cell_type": "markdown",
      "metadata": {
        "collapsed": false,
        "id": "VH6cuNVOU8GJ"
      },
      "source": [
        "### Build the Optimizer\n",
        "Read about the Optimizer here: https://keras.io/api/optimizers/"
      ]
    },
    {
      "cell_type": "code",
      "execution_count": null,
      "metadata": {
        "id": "2Xndbe19U8GJ"
      },
      "outputs": [],
      "source": [
        "\n",
        "\n",
        "from keras.optimizers import Adam\n",
        "from keras.optimizers import SGD\n",
        "opt_adam = Adam(learning_rate=0.00004)\n",
        "opt_sgd = SGD(learning_rate=0.01)\n",
        "\n",
        "\n",
        "model2.compile(loss='categorical_crossentropy', optimizer=opt_sgd,metrics=[\"accuracy\"])\n",
        "model3.compile(loss='categorical_crossentropy', optimizer=opt_sgd,metrics=[\"accuracy\"])\n",
        "\n",
        "model4.compile(loss='categorical_crossentropy', optimizer=opt_adam,metrics=[\"accuracy\"])"
      ]
    },
    {
      "cell_type": "markdown",
      "metadata": {
        "collapsed": false,
        "id": "c7kXhHkoU8GJ"
      },
      "source": [
        "### Training\n",
        "Use the fit method to train your model, then store the results within the variable \"history\".\n"
      ]
    },
    {
      "cell_type": "markdown",
      "source": [
        "####Base model"
      ],
      "metadata": {
        "id": "SfWMC3JVCApD"
      }
    },
    {
      "cell_type": "code",
      "execution_count": null,
      "metadata": {
        "id": "Sq1KOMEeU8GJ",
        "colab": {
          "base_uri": "https://localhost:8080/"
        },
        "outputId": "bdcedef1-54b9-4465-beae-03f8da8dc753"
      },
      "outputs": [
        {
          "output_type": "stream",
          "name": "stdout",
          "text": [
            "Epoch 1/10\n",
            "300/300 [==============================] - 1s 3ms/step - loss: 0.1230 - accuracy: 0.9510 - val_loss: 0.1257 - val_accuracy: 0.9479\n",
            "Epoch 2/10\n",
            "300/300 [==============================] - 1s 3ms/step - loss: 0.1215 - accuracy: 0.9522 - val_loss: 0.1247 - val_accuracy: 0.9488\n",
            "Epoch 3/10\n",
            "300/300 [==============================] - 1s 3ms/step - loss: 0.1204 - accuracy: 0.9514 - val_loss: 0.1234 - val_accuracy: 0.9475\n",
            "Epoch 4/10\n",
            "300/300 [==============================] - 1s 3ms/step - loss: 0.1195 - accuracy: 0.9519 - val_loss: 0.1238 - val_accuracy: 0.9475\n",
            "Epoch 5/10\n",
            "300/300 [==============================] - 1s 3ms/step - loss: 0.1184 - accuracy: 0.9523 - val_loss: 0.1219 - val_accuracy: 0.9488\n",
            "Epoch 6/10\n",
            "300/300 [==============================] - 1s 3ms/step - loss: 0.1177 - accuracy: 0.9534 - val_loss: 0.1229 - val_accuracy: 0.9479\n",
            "Epoch 7/10\n",
            "300/300 [==============================] - 1s 3ms/step - loss: 0.1167 - accuracy: 0.9526 - val_loss: 0.1267 - val_accuracy: 0.9442\n",
            "Epoch 8/10\n",
            "300/300 [==============================] - 1s 3ms/step - loss: 0.1161 - accuracy: 0.9526 - val_loss: 0.1204 - val_accuracy: 0.9500\n",
            "Epoch 9/10\n",
            "300/300 [==============================] - 1s 3ms/step - loss: 0.1150 - accuracy: 0.9534 - val_loss: 0.1201 - val_accuracy: 0.9513\n",
            "Epoch 10/10\n",
            "300/300 [==============================] - 1s 3ms/step - loss: 0.1148 - accuracy: 0.9540 - val_loss: 0.1192 - val_accuracy: 0.9517\n"
          ]
        }
      ],
      "source": [
        "temp_x = X_train\n",
        "temp_y = y_train\n",
        "\n",
        "history = model2.fit(temp_x,temp_y, epochs=10, validation_split=0.2)"
      ]
    },
    {
      "cell_type": "markdown",
      "source": [
        "####Expermient 1"
      ],
      "metadata": {
        "id": "vNKGqEdcCF2z"
      }
    },
    {
      "cell_type": "code",
      "source": [
        "temp_x = X_train\n",
        "temp_y = y_train\n",
        "\n",
        "\n",
        "history2 = model3.fit(temp_x, temp_y, epochs=10, validation_split=0.2)"
      ],
      "metadata": {
        "id": "7oV84Qx_bG95",
        "colab": {
          "base_uri": "https://localhost:8080/"
        },
        "outputId": "7c83793a-6a38-41f9-d70c-a9b79d6f70bc"
      },
      "execution_count": null,
      "outputs": [
        {
          "output_type": "stream",
          "name": "stdout",
          "text": [
            "Epoch 1/10\n",
            "300/300 [==============================] - 1s 4ms/step - loss: 0.3218 - accuracy: 0.8849 - val_loss: 0.2134 - val_accuracy: 0.9133\n",
            "Epoch 2/10\n",
            "300/300 [==============================] - 1s 3ms/step - loss: 0.1986 - accuracy: 0.9170 - val_loss: 0.1747 - val_accuracy: 0.9296\n",
            "Epoch 3/10\n",
            "300/300 [==============================] - 1s 4ms/step - loss: 0.1682 - accuracy: 0.9279 - val_loss: 0.1518 - val_accuracy: 0.9392\n",
            "Epoch 4/10\n",
            "300/300 [==============================] - 1s 5ms/step - loss: 0.1493 - accuracy: 0.9379 - val_loss: 0.1386 - val_accuracy: 0.9417\n",
            "Epoch 5/10\n",
            "300/300 [==============================] - 1s 4ms/step - loss: 0.1391 - accuracy: 0.9416 - val_loss: 0.1313 - val_accuracy: 0.9454\n",
            "Epoch 6/10\n",
            "300/300 [==============================] - 1s 4ms/step - loss: 0.1303 - accuracy: 0.9459 - val_loss: 0.1318 - val_accuracy: 0.9492\n",
            "Epoch 7/10\n",
            "300/300 [==============================] - 1s 3ms/step - loss: 0.1262 - accuracy: 0.9477 - val_loss: 0.1326 - val_accuracy: 0.9396\n",
            "Epoch 8/10\n",
            "300/300 [==============================] - 1s 3ms/step - loss: 0.1226 - accuracy: 0.9491 - val_loss: 0.1213 - val_accuracy: 0.9492\n",
            "Epoch 9/10\n",
            "300/300 [==============================] - 1s 3ms/step - loss: 0.1210 - accuracy: 0.9522 - val_loss: 0.1269 - val_accuracy: 0.9442\n",
            "Epoch 10/10\n",
            "300/300 [==============================] - 1s 3ms/step - loss: 0.1183 - accuracy: 0.9520 - val_loss: 0.1189 - val_accuracy: 0.9496\n"
          ]
        }
      ]
    },
    {
      "cell_type": "markdown",
      "source": [
        "####Experiment 2"
      ],
      "metadata": {
        "id": "CcyBtE3GjH9V"
      }
    },
    {
      "cell_type": "code",
      "source": [
        "temp_x = X_train\n",
        "temp_y = y_train\n",
        "history3 = model4.fit(temp_x, temp_y, epochs=10, validation_split=0.2,batch_size=64,shuffle=True)"
      ],
      "metadata": {
        "id": "lD3E13udjGFB",
        "colab": {
          "base_uri": "https://localhost:8080/"
        },
        "outputId": "69f11256-f286-41db-fbdc-c30373564115"
      },
      "execution_count": null,
      "outputs": [
        {
          "output_type": "stream",
          "name": "stdout",
          "text": [
            "Epoch 1/10\n",
            "150/150 [==============================] - 1s 5ms/step - loss: 0.6435 - accuracy: 0.6817 - val_loss: 0.4924 - val_accuracy: 0.8933\n",
            "Epoch 2/10\n",
            "150/150 [==============================] - 1s 4ms/step - loss: 0.4086 - accuracy: 0.9005 - val_loss: 0.3368 - val_accuracy: 0.9000\n",
            "Epoch 3/10\n",
            "150/150 [==============================] - 1s 3ms/step - loss: 0.2988 - accuracy: 0.9073 - val_loss: 0.2633 - val_accuracy: 0.9108\n",
            "Epoch 4/10\n",
            "150/150 [==============================] - 0s 3ms/step - loss: 0.2460 - accuracy: 0.9123 - val_loss: 0.2257 - val_accuracy: 0.9200\n",
            "Epoch 5/10\n",
            "150/150 [==============================] - 1s 4ms/step - loss: 0.2157 - accuracy: 0.9174 - val_loss: 0.2027 - val_accuracy: 0.9267\n",
            "Epoch 6/10\n",
            "150/150 [==============================] - 1s 3ms/step - loss: 0.1948 - accuracy: 0.9241 - val_loss: 0.1848 - val_accuracy: 0.9321\n",
            "Epoch 7/10\n",
            "150/150 [==============================] - 1s 3ms/step - loss: 0.1782 - accuracy: 0.9303 - val_loss: 0.1707 - val_accuracy: 0.9362\n",
            "Epoch 8/10\n",
            "150/150 [==============================] - 1s 3ms/step - loss: 0.1648 - accuracy: 0.9365 - val_loss: 0.1596 - val_accuracy: 0.9383\n",
            "Epoch 9/10\n",
            "150/150 [==============================] - 1s 3ms/step - loss: 0.1543 - accuracy: 0.9386 - val_loss: 0.1518 - val_accuracy: 0.9388\n",
            "Epoch 10/10\n",
            "150/150 [==============================] - 1s 4ms/step - loss: 0.1463 - accuracy: 0.9421 - val_loss: 0.1448 - val_accuracy: 0.9417\n"
          ]
        }
      ]
    },
    {
      "cell_type": "markdown",
      "metadata": {
        "id": "zS3_ZnXk450S"
      },
      "source": [
        "### Save Trained model (weights)\n",
        "Read about Save and load models in tensorflow.keras here: [https://www.tensorflow.org/tutorials/keras/save_and_load](https://www.tensorflow.org/tutorials/keras/save_and_load)\n"
      ]
    },
    {
      "cell_type": "code",
      "execution_count": null,
      "metadata": {
        "id": "Pb66kyHa5c-l",
        "outputId": "d3c67b21-1705-4624-df90-747671872243",
        "colab": {
          "base_uri": "https://localhost:8080/",
          "height": 34
        }
      },
      "outputs": [
        {
          "output_type": "display_data",
          "data": {
            "text/plain": [
              "<IPython.core.display.Javascript object>"
            ],
            "application/javascript": [
              "\n",
              "    async function download(id, filename, size) {\n",
              "      if (!google.colab.kernel.accessAllowed) {\n",
              "        return;\n",
              "      }\n",
              "      const div = document.createElement('div');\n",
              "      const label = document.createElement('label');\n",
              "      label.textContent = `Downloading \"${filename}\": `;\n",
              "      div.appendChild(label);\n",
              "      const progress = document.createElement('progress');\n",
              "      progress.max = size;\n",
              "      div.appendChild(progress);\n",
              "      document.body.appendChild(div);\n",
              "\n",
              "      const buffers = [];\n",
              "      let downloaded = 0;\n",
              "\n",
              "      const channel = await google.colab.kernel.comms.open(id);\n",
              "      // Send a message to notify the kernel that we're ready.\n",
              "      channel.send({})\n",
              "\n",
              "      for await (const message of channel.messages) {\n",
              "        // Send a message to notify the kernel that we're ready.\n",
              "        channel.send({})\n",
              "        if (message.buffers) {\n",
              "          for (const buffer of message.buffers) {\n",
              "            buffers.push(buffer);\n",
              "            downloaded += buffer.byteLength;\n",
              "            progress.value = downloaded;\n",
              "          }\n",
              "        }\n",
              "      }\n",
              "      const blob = new Blob(buffers, {type: 'application/binary'});\n",
              "      const a = document.createElement('a');\n",
              "      a.href = window.URL.createObjectURL(blob);\n",
              "      a.download = filename;\n",
              "      div.appendChild(a);\n",
              "      a.click();\n",
              "      div.remove();\n",
              "    }\n",
              "  "
            ]
          },
          "metadata": {}
        },
        {
          "output_type": "display_data",
          "data": {
            "text/plain": [
              "<IPython.core.display.Javascript object>"
            ],
            "application/javascript": [
              "download(\"download_17ec8c37-0ab9-41c0-9ea4-a7e1f4d7c045\", \"my_files\", 4096)"
            ]
          },
          "metadata": {}
        }
      ],
      "source": [
        "%%script echo skipping\n",
        "\n",
        "from google.colab import files\n",
        "\n",
        "!mkdir -p my_models\n",
        "\n",
        "model2.save('my_models/model2')\n",
        "model3.save('my_models/model3')\n",
        "model4.save('my_models/model4')\n",
        "\n",
        "!zip -r /content/my_models.zip /content/my_models"
      ]
    },
    {
      "cell_type": "markdown",
      "metadata": {
        "collapsed": false,
        "id": "bkNYD1oRU8GK"
      },
      "source": [
        "### Loss and Accuracy Visualization\n",
        "Show  on plot the lose during training"
      ]
    },
    {
      "cell_type": "markdown",
      "source": [
        "####Loss"
      ],
      "metadata": {
        "id": "ICnoc6bQBplo"
      }
    },
    {
      "cell_type": "markdown",
      "source": [
        "#####Base_Model\n",
        "\n",
        "\n",
        "\n"
      ],
      "metadata": {
        "id": "MK8AIoDVchiT"
      }
    },
    {
      "cell_type": "code",
      "execution_count": null,
      "metadata": {
        "id": "iM8si3EBU8GK",
        "colab": {
          "base_uri": "https://localhost:8080/",
          "height": 295
        },
        "outputId": "07d6f388-26b6-41ac-9fe3-a155ac13bb41"
      },
      "outputs": [
        {
          "output_type": "display_data",
          "data": {
            "text/plain": [
              "<Figure size 432x288 with 1 Axes>"
            ],
            "image/png": "[encoded data removed]"
          },
          "metadata": {
            "needs_background": "light"
          }
        }
      ],
      "source": [
        "\n",
        "\n",
        "import matplotlib.pyplot as plt\n",
        "plt.plot(history.history['loss'])\n",
        "plt.plot(history.history['val_loss'])\n",
        "plt.title('model loss')\n",
        "plt.ylabel('loss')\n",
        "plt.xlabel('epoch')\n",
        "plt.legend(['train', 'val'], loc='upper left')\n",
        "plt.show()"
      ]
    },
    {
      "cell_type": "markdown",
      "source": [
        "#####Experiment 1"
      ],
      "metadata": {
        "id": "eBEuuc1Fcuol"
      }
    },
    {
      "cell_type": "code",
      "source": [
        "\n",
        "plt.plot(history2.history['loss'])\n",
        "plt.plot(history2.history['val_loss'])\n",
        "plt.title('model loss')\n",
        "plt.ylabel('loss')\n",
        "plt.xlabel('epoch')\n",
        "plt.legend(['train', 'val'], loc='upper left')\n",
        "plt.show()"
      ],
      "metadata": {
        "colab": {
          "base_uri": "https://localhost:8080/",
          "height": 295
        },
        "id": "B5eYd-bGcbAY",
        "outputId": "65a3ad23-937e-42e8-93b1-64d6009109ad"
      },
      "execution_count": null,
      "outputs": [
        {
          "output_type": "display_data",
          "data": {
            "text/plain": [
              "<Figure size 432x288 with 1 Axes>"
            ],
            "image/png": "[encoded data removed]"
          },
          "metadata": {
            "needs_background": "light"
          }
        }
      ]
    },
    {
      "cell_type": "markdown",
      "source": [
        "#####Experiment 2"
      ],
      "metadata": {
        "id": "pxdt9EcyqiEt"
      }
    },
    {
      "cell_type": "markdown",
      "metadata": {
        "collapsed": false,
        "id": "w4JBO5zuU8GK"
      },
      "source": [
        "Show  on plot the accuracy during training"
      ]
    },
    {
      "cell_type": "code",
      "source": [
        "\n",
        "\n",
        "plt.plot(history3.history['loss'])\n",
        "plt.plot(history3.history['val_loss'])\n",
        "plt.title('model loss')\n",
        "plt.ylabel('loss')\n",
        "plt.xlabel('epoch')\n",
        "plt.legend(['train', 'val'], loc='upper left')\n",
        "plt.show()"
      ],
      "metadata": {
        "colab": {
          "base_uri": "https://localhost:8080/",
          "height": 295
        },
        "id": "m_MVObjqqicB",
        "outputId": "3f3095ea-c0e8-4bb8-c22d-0aa87ceba3f3"
      },
      "execution_count": null,
      "outputs": [
        {
          "output_type": "display_data",
          "data": {
            "text/plain": [
              "<Figure size 432x288 with 1 Axes>"
            ],
            "image/png": "[encoded data removed]"
          },
          "metadata": {
            "needs_background": "light"
          }
        }
      ]
    },
    {
      "cell_type": "markdown",
      "source": [
        "#### Accuarcy"
      ],
      "metadata": {
        "id": "ileTOBWBq9mI"
      }
    },
    {
      "cell_type": "markdown",
      "source": [
        "#####Base_model"
      ],
      "metadata": {
        "id": "N0NzSKjjse48"
      }
    },
    {
      "cell_type": "code",
      "execution_count": null,
      "metadata": {
        "id": "hOCsxuuTU8GK",
        "colab": {
          "base_uri": "https://localhost:8080/"
        },
        "outputId": "eb0b3367-74a9-420c-e15a-0e9ef18335b3"
      },
      "outputs": [
        {
          "output_type": "stream",
          "name": "stdout",
          "text": [
            "skipping\n"
          ]
        }
      ],
      "source": [
        "%%script echo skipping\n",
        "\n",
        "plt.plot(history.history['accuracy'])\n",
        "plt.plot(history.history['val_accuracy'])\n",
        "plt.title('model accuracy')\n",
        "plt.ylabel('accuracy')\n",
        "plt.xlabel('Epoch num')\n",
        "plt.legend(['train', 'val'], loc='upper left')\n",
        "plt.show()"
      ]
    },
    {
      "cell_type": "markdown",
      "source": [
        "#####Experiment 1"
      ],
      "metadata": {
        "id": "lEDihM-5dF3g"
      }
    },
    {
      "cell_type": "code",
      "source": [
        "\n",
        "\n",
        "plt.plot(history2.history['accuracy'])\n",
        "plt.plot(history2.history['val_accuracy'])\n",
        "plt.title('model accuracy')\n",
        "plt.ylabel('accuracy')\n",
        "plt.xlabel('Epoch num')\n",
        "plt.legend(['train', 'val'], loc='upper left')\n",
        "plt.show()"
      ],
      "metadata": {
        "colab": {
          "base_uri": "https://localhost:8080/",
          "height": 295
        },
        "id": "FSkvoZVodESE",
        "outputId": "2ef9c48d-a98f-4e77-964d-a0d190cdce02"
      },
      "execution_count": null,
      "outputs": [
        {
          "output_type": "display_data",
          "data": {
            "text/plain": [
              "<Figure size 432x288 with 1 Axes>"
            ],
            "image/png": "[encoded data removed]"
          },
          "metadata": {
            "needs_background": "light"
          }
        }
      ]
    },
    {
      "cell_type": "markdown",
      "source": [
        "#####Experiment 2"
      ],
      "metadata": {
        "id": "JxUIuQQtqR6q"
      }
    },
    {
      "cell_type": "code",
      "source": [
        "\n",
        "\n",
        "plt.plot(history3.history['accuracy'])\n",
        "plt.plot(history3.history['val_accuracy'])\n",
        "plt.title('model accuracy')\n",
        "plt.ylabel('accuracy')\n",
        "plt.xlabel('Epoch num')\n",
        "plt.legend(['train', 'val'], loc='upper left')\n",
        "plt.show()"
      ],
      "metadata": {
        "colab": {
          "base_uri": "https://localhost:8080/",
          "height": 295
        },
        "id": "6GNFMOrLqKVp",
        "outputId": "106682cf-2bfb-490e-8402-8751c988d804"
      },
      "execution_count": null,
      "outputs": [
        {
          "output_type": "display_data",
          "data": {
            "text/plain": [
              "<Figure size 432x288 with 1 Axes>"
            ],
            "image/png": "[encoded data removed]"
          },
          "metadata": {
            "needs_background": "light"
          }
        }
      ]
    },
    {
      "cell_type": "markdown",
      "metadata": {
        "collapsed": false,
        "id": "SAUlD1ypU8GL"
      },
      "source": [
        "### Test\n",
        "Test your model (Show accuracy by comparing the prediction VS the test label)"
      ]
    },
    {
      "cell_type": "markdown",
      "source": [
        "####Base Model\n"
      ],
      "metadata": {
        "id": "71K2NTtbeTon"
      }
    },
    {
      "cell_type": "code",
      "execution_count": null,
      "metadata": {
        "id": "rukB7UefU8GL",
        "colab": {
          "base_uri": "https://localhost:8080/"
        },
        "outputId": "fc7f6429-a573-4991-aa6f-ffff4ab324f9"
      },
      "outputs": [
        {
          "output_type": "stream",
          "name": "stdout",
          "text": [
            "63/63 [==============================] - 0s 2ms/step\n",
            "The Accuracy score is: 0.937\n"
          ]
        }
      ],
      "source": [
        "\n",
        "\n",
        "from sklearn.metrics import accuracy_score\n",
        "\n",
        "\n",
        "y_pred = model2.predict(X_test)\n",
        "y_pred = np.argmax(y_pred, axis=1)\n",
        "y_pred = np.where(y_pred == 0, 3, 4)\n",
        "\n",
        "acc = accuracy_score(original_y_test, y_pred)\n",
        "print(f\"The Accuracy score is: {acc}\")"
      ]
    },
    {
      "cell_type": "markdown",
      "source": [
        "####Experiment 1\n"
      ],
      "metadata": {
        "id": "_lf34Y83eAtI"
      }
    },
    {
      "cell_type": "code",
      "source": [
        "\n",
        "\n",
        "y_pred2 = model3.predict(X_test)\n",
        "y_pred2 = np.argmax(y_pred2, axis=1)\n",
        "y_pred2 = np.where(y_pred2 == 0, 3, 4)\n",
        "\n",
        "acc2 = accuracy_score(original_y_test, y_pred2)\n",
        "print(acc2)"
      ],
      "metadata": {
        "colab": {
          "base_uri": "https://localhost:8080/"
        },
        "id": "P_HU-D29dxiP",
        "outputId": "9b0086d7-cea8-4bf6-94c7-012e805f67fb"
      },
      "execution_count": null,
      "outputs": [
        {
          "output_type": "stream",
          "name": "stdout",
          "text": [
            "63/63 [==============================] - 0s 2ms/step\n",
            "0.9455\n"
          ]
        }
      ]
    },
    {
      "cell_type": "markdown",
      "source": [
        "####Experiment 2\n"
      ],
      "metadata": {
        "id": "QqEmn5gSj-CZ"
      }
    },
    {
      "cell_type": "code",
      "source": [
        "\n",
        "\n",
        "y_pred3 = model4.predict(X_test)\n",
        "y_pred3 = np.argmax(y_pred3, axis=1)\n",
        "y_pred3 = np.where(y_pred3 == 0, 3, 4)\n",
        "\n",
        "acc3 = accuracy_score(original_y_test, y_pred3)\n",
        "print(acc3)"
      ],
      "metadata": {
        "colab": {
          "base_uri": "https://localhost:8080/"
        },
        "id": "UXyJnYZYj5U-",
        "outputId": "5d63a4f6-ad43-459e-dfc2-2bf0b961ab3e"
      },
      "execution_count": null,
      "outputs": [
        {
          "output_type": "stream",
          "name": "stdout",
          "text": [
            "63/63 [==============================] - 0s 2ms/step\n",
            "0.948\n"
          ]
        }
      ]
    },
    {
      "cell_type": "markdown",
      "metadata": {
        "collapsed": false,
        "id": "ClevveJ3U8GL"
      },
      "source": [
        "### Model Evaluation\n",
        "Show the model evaluation by presenting the confusion metrix in a representative way<br>\n",
        "Read about confusion metrix visualization here: https://scikit-learn.org/stable/auto_examples/model_selection/plot_confusion_matrix.html"
      ]
    },
    {
      "cell_type": "markdown",
      "source": [
        "####Base Model\n"
      ],
      "metadata": {
        "id": "6ElXof4-eYbU"
      }
    },
    {
      "cell_type": "code",
      "execution_count": null,
      "metadata": {
        "id": "KHQVaRZKU8GL",
        "colab": {
          "base_uri": "https://localhost:8080/",
          "height": 279
        },
        "outputId": "d6489577-d666-4315-d81e-ea64327ffd94"
      },
      "outputs": [
        {
          "output_type": "display_data",
          "data": {
            "text/plain": [
              "<Figure size 432x288 with 2 Axes>"
            ],
            "image/png": "[encoded data removed]"
          },
          "metadata": {
            "needs_background": "light"
          }
        }
      ],
      "source": [
        "%%script echo skipping\n",
        "\n",
        "from sklearn.metrics import confusion_matrix, ConfusionMatrixDisplay\n",
        "import itertools\n",
        "\n",
        "conf = confusion_matrix(original_y_test, y_pred)\n",
        "disp = ConfusionMatrixDisplay(confusion_matrix=conf, display_labels=[3, 4])\n",
        "disp.plot()\n",
        "plt.show()\n"
      ]
    },
    {
      "cell_type": "markdown",
      "source": [
        "####Experiment 1"
      ],
      "metadata": {
        "id": "aO9Vl2W9eqaz"
      }
    },
    {
      "cell_type": "code",
      "source": [
        "%%script echo skipping\n",
        "\n",
        "conf2 = confusion_matrix(original_y_test, y_pred2)\n",
        "disp2 = ConfusionMatrixDisplay(confusion_matrix=conf2, display_labels=[3, 4])\n",
        "disp2.plot()\n",
        "plt.show()"
      ],
      "metadata": {
        "colab": {
          "base_uri": "https://localhost:8080/",
          "height": 279
        },
        "id": "4erKcKskepMn",
        "outputId": "59ff5595-1163-4a84-da2e-6fba02f96e76"
      },
      "execution_count": null,
      "outputs": [
        {
          "output_type": "display_data",
          "data": {
            "text/plain": [
              "<Figure size 432x288 with 2 Axes>"
            ],
            "image/png": "[encoded data removed]"
          },
          "metadata": {
            "needs_background": "light"
          }
        }
      ]
    },
    {
      "cell_type": "markdown",
      "source": [
        "####Experiment 2"
      ],
      "metadata": {
        "id": "-thIoZJJzPHD"
      }
    },
    {
      "cell_type": "code",
      "source": [
        "%%script echo skipping\n",
        "\n",
        "conf3 = confusion_matrix(original_y_test, y_pred3)\n",
        "disp3 = ConfusionMatrixDisplay(confusion_matrix=conf3, display_labels=[3, 4])\n",
        "disp3.plot()\n",
        "plt.show()"
      ],
      "metadata": {
        "id": "EMBe-DVZzQya",
        "colab": {
          "base_uri": "https://localhost:8080/",
          "height": 279
        },
        "outputId": "9022f127-902f-4e53-af61-90db631b2b8f"
      },
      "execution_count": null,
      "outputs": [
        {
          "output_type": "display_data",
          "data": {
            "text/plain": [
              "<Figure size 432x288 with 2 Axes>"
            ],
            "image/png": "[encoded data removed]"
          },
          "metadata": {
            "needs_background": "light"
          }
        }
      ]
    },
    {
      "cell_type": "markdown",
      "metadata": {
        "id": "L0xlxiaj6xM4"
      },
      "source": [
        "## Test Environment (of part 2 only)\n",
        "This part is meant to show the tester how your model is performing. Keep in mind that the only cells he is going to run are the cells below.<br>\n",
        "(If there are libraries that need to be used please add their import. If there is a process that the data has to go through before it enters the model, don't forget to add it as well)."
      ]
    },
    {
      "cell_type": "code",
      "source": [
        "import tensorflow as tf\n",
        "from tensorflow import keras\n",
        "import json"
      ],
      "metadata": {
        "id": "genfBdnrKT3z"
      },
      "execution_count": null,
      "outputs": []
    },
    {
      "cell_type": "markdown",
      "metadata": {
        "id": "-rMJ1ucy7lKB"
      },
      "source": [
        "### Load trained model"
      ]
    },
    {
      "cell_type": "code",
      "execution_count": null,
      "metadata": {
        "id": "I27yHolJ7naT"
      },
      "outputs": [],
      "source": [
        "!gdown --folder https://drive.google.com/drive/folders/1J8aT0p2Myx156li93rgstMrxJVIa2p2F?usp=share_link -O /loaded_models\n",
        "loaded_model = tf.keras.modles.load_model('/loaded_models/modle4')\n",
        "loaded_model.summary()"
      ]
    },
    {
      "cell_type": "markdown",
      "metadata": {
        "id": "5PSVr_J-_wmX"
      },
      "source": [
        "### Single prediction\n",
        "Let the tester examine your trained model on single predicttion test.<br>You will use the colab.file library to allow the tester to upload a single image of an item of clothing (28x28 image).<br>\n",
        "Then build a function that takes this image, loads the weights of the trained model (If you haven't loaded it before) and prints a prediction."
      ]
    },
    {
      "cell_type": "markdown",
      "source": [
        "### Predicting the result of a single observation\n"
      ],
      "metadata": {
        "id": "RroVYTkZMSGg"
      }
    },
    {
      "cell_type": "code",
      "source": [
        "def single_predictor(sample):\n",
        "  my_prediction = loaded_model.predict(sample)\n",
        "  print(my_prediction > 0.5)"
      ],
      "metadata": {
        "id": "8wNCwqajMpCm"
      },
      "execution_count": null,
      "outputs": []
    },
    {
      "cell_type": "markdown",
      "source": [
        "#### Test model"
      ],
      "metadata": {
        "id": "NsUTtNJJKuIF"
      }
    },
    {
      "cell_type": "markdown",
      "source": [
        "Enter below the test sample"
      ],
      "metadata": {
        "id": "P96pyME-NLkf"
      }
    },
    {
      "cell_type": "code",
      "source": [
        "sample = # Test sample"
      ],
      "metadata": {
        "id": "032y8f4bNKen"
      },
      "execution_count": null,
      "outputs": []
    },
    {
      "cell_type": "code",
      "execution_count": null,
      "metadata": {
        "id": "Y7SBK56880aY"
      },
      "outputs": [],
      "source": [
        "single_predictor(sample)"
      ]
    }
  ],
  "metadata": {
    "accelerator": "GPU",
    "colab": {
      "collapsed_sections": [
        "gg7D7fwGH9Yv",
        "TdgCk97534-B",
        "raBFclM5ploH"
      ],
      "provenance": [],
      "toc_visible": true
    },
    "kernelspec": {
      "display_name": "Python 3",
      "name": "python3"
    },
    "language_info": {
      "name": "python"
    }
  },
  "nbformat": 4,
  "nbformat_minor": 0
}